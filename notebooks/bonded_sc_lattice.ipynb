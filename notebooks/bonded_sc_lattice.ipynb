{
 "cells": [
  {
   "cell_type": "markdown",
   "metadata": {},
   "source": [
    "Bonded Simple Cubic Lattice\n",
    "============================\n",
    "\n",
    "This example demonstrates how to construct a lattice with simple cubic unit cells of Mechanica objects \n",
    "and stimulate it with a periodic external perturbation."
   ]
  },
  {
   "cell_type": "markdown",
   "metadata": {},
   "source": [
    "Basic Setup\n",
    "------------\n",
    "\n",
    "Begin by initializing Mechanica with an explicit timestep and declare a lattice spacing constant by which \n",
    "all spatial aspects should be defined. "
   ]
  },
  {
   "cell_type": "code",
   "execution_count": null,
   "metadata": {
    "scrolled": false
   },
   "outputs": [],
   "source": [
    "import os\n",
    "import mechanica as mx\n",
    "import numpy as np\n",
    "\n",
    "mx.init(dt=0.1, dim=[15, 12, 10])\n",
    "\n",
    "# lattice spacing\n",
    "a = 0.65"
   ]
  },
  {
   "cell_type": "markdown",
   "metadata": {},
   "source": [
    "Particle Types\n",
    "---------------\n",
    "\n",
    "Declare three particle types to designate roles of particles in the lattice, \n",
    "\n",
    "- A basic particle type for particles in the lattice\n",
    "- A particle type to which an external stimulus is applied\n",
    "- A particle type that is fixed in space to serve as the base of the lattice"
   ]
  },
  {
   "cell_type": "code",
   "execution_count": null,
   "metadata": {},
   "outputs": [],
   "source": [
    "class AType(mx.ParticleType):\n",
    "    \"\"\"A basic particle type for particles in the lattice\"\"\"\n",
    "    radius = 0.3\n",
    "    style = {\"color\": \"seagreen\"}\n",
    "    dynamics = mx.Overdamped\n",
    "\n",
    "\n",
    "A = AType.get()\n",
    "\n",
    "\n",
    "class BType(mx.ParticleType):\n",
    "    \"\"\"A particle type to which an external stimulus is applied\"\"\"\n",
    "    radius = 0.3\n",
    "    style = {\"color\": \"red\"}\n",
    "    dynamics = mx.Overdamped\n",
    "\n",
    "\n",
    "B = BType.get()\n",
    "\n",
    "\n",
    "class FixedType(mx.ParticleType):\n",
    "    \"\"\"A particle type that is fixed in space to serve as the base of the lattice\"\"\"\n",
    "    radius = 0.3\n",
    "    style = {\"color\": \"blue\"}\n",
    "    frozen = True\n",
    "\n",
    "\n",
    "Fixed = FixedType.get()"
   ]
  },
  {
   "cell_type": "markdown",
   "metadata": {},
   "source": [
    "Symmetric Repulsive Interaction\n",
    "--------------------------------\n",
    "\n",
    "Particles in the lattice will be bound with their neighbors using bonds. \n",
    "Implement a repulsive potential to put some tension in the bonds of the lattice. "
   ]
  },
  {
   "cell_type": "code",
   "execution_count": null,
   "metadata": {},
   "outputs": [],
   "source": [
    "repulse = mx.Potential.coulomb(q=0.08, min=0.01, max=2 * a)\n",
    "\n",
    "mx.bind.types(repulse, A, A)\n",
    "mx.bind.types(repulse, A, B)"
   ]
  },
  {
   "cell_type": "markdown",
   "metadata": {},
   "source": [
    "External Stimulus\n",
    "------------------\n",
    "\n",
    "Create a periodic force and apply it to the lattice. "
   ]
  },
  {
   "cell_type": "code",
   "execution_count": null,
   "metadata": {},
   "outputs": [],
   "source": [
    "f = mx.ConstantForce(lambda: [0.3, 1 * np.sin(0.4 * mx.Universe.time), 0], 0.01)\n",
    "\n",
    "mx.bind.force(f, B)"
   ]
  },
  {
   "cell_type": "markdown",
   "metadata": {},
   "source": [
    "Lattice Construction\n",
    "---------------------\n",
    "\n",
    "Create a lattice of simple cubic unit cells with bonds like Hookean springs. "
   ]
  },
  {
   "cell_type": "code",
   "execution_count": null,
   "metadata": {},
   "outputs": [],
   "source": [
    "pot = mx.Potential.power(r0=0.5 * a, alpha=2)\n",
    "\n",
    "uc = mx.lattice.sc(a, A, lambda i, j: mx.Bond.create(pot, i, j, dissociation_energy=100.0))\n",
    "\n",
    "parts = mx.lattice.create_lattice(uc, [15, 15, 15])"
   ]
  },
  {
   "cell_type": "markdown",
   "metadata": {},
   "source": [
    "Applying Particle Types\n",
    "------------------------\n",
    "\n",
    "Make the right-facing surface of the lattice receive the external stimulus, \n",
    "and make the left-facing surface of the lattice be the fixed base. "
   ]
  },
  {
   "cell_type": "code",
   "execution_count": null,
   "metadata": {},
   "outputs": [],
   "source": [
    "for p in parts[14, :].flatten():\n",
    "    p[0].become(B)\n",
    "\n",
    "for p in parts[0, :].flatten():\n",
    "    p[0].become(Fixed)"
   ]
  },
  {
   "cell_type": "code",
   "execution_count": null,
   "metadata": {
    "nbsphinx-thumbnail": {
     "output-index": 0
    }
   },
   "outputs": [],
   "source": [
    "mx.show()"
   ],
   "tags": [
    "nbsphinx-thumbnail"
   ]
  }
 ],
 "metadata": {
  "interpreter": {
   "hash": "3f50d3bedd02560c28ed32aa7ec7ad505eb7d443a3b2c6ffbf333a49fa361dff"
  },
  "kernelspec": {
   "display_name": "Python 3 (ipykernel)",
   "language": "python",
   "name": "python3"
  },
  "language_info": {
   "codemirror_mode": {
    "name": "ipython",
    "version": 3
   },
   "file_extension": ".py",
   "mimetype": "text/x-python",
   "name": "python",
   "nbconvert_exporter": "python",
   "pygments_lexer": "ipython3",
   "version": "3.7.6"
  }
 },
 "nbformat": 4,
 "nbformat_minor": 2
}
