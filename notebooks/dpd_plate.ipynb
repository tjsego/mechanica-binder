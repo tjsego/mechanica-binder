{
 "cells": [
  {
   "cell_type": "markdown",
   "metadata": {},
   "source": [
    "Fluid Flow Over a Plate\n",
    "========================\n",
    "\n",
    "This example demonstrates constructing a simulation of fluid flow near a plate using Mechanica's built-in support for modeling and simulation with Dissipative Particle Dynamics (DPD). The simulation is constructed as a subdomain of a larger fluid flow over an infinite pipe, where a known fluid velocity just above the simulation domain is given. The fluid velocity above the simulation domain then acts as a stimulus for the fluid dynamics within the simulation domain. "
   ]
  },
  {
   "cell_type": "markdown",
   "metadata": {},
   "source": [
    "Basic Setup\n",
    "------------\n",
    "\n",
    "Begin by initializing a simulation for bulk fluid flow parallel to the ``xy`` plane, an infinite plate at the bottom of the domain, and known fluid velocity just above the domain."
   ]
  },
  {
   "cell_type": "code",
   "execution_count": null,
   "metadata": {},
   "outputs": [],
   "source": [
    "import mechanica as mx\n",
    "\n",
    "mx.init(dt=0.1, dim=[15, 12, 10],\n",
    "        bc={'bottom': 'no_slip',\n",
    "            'top': {'velocity': [-0.4, 0, 0]}})"
   ]
  },
  {
   "cell_type": "markdown",
   "metadata": {},
   "source": [
    "Particle Types\n",
    "---------------\n",
    "\n",
    "Construct a single particle type that represents parcels of fluid material."
   ]
  },
  {
   "cell_type": "code",
   "execution_count": null,
   "metadata": {},
   "outputs": [],
   "source": [
    "class AType(mx.ParticleType):\n",
    "    radius = 0.2\n",
    "    style = {\"color\": \"seagreen\"}\n",
    "    mass = 10\n",
    "\n",
    "\n",
    "A = AType.get()"
   ]
  },
  {
   "cell_type": "markdown",
   "metadata": {},
   "source": [
    "Fluid Interactions\n",
    "-------------------\n",
    "\n",
    "Construct fluid interactions for the following cases. \n",
    "\n",
    "1. Fluid particles in the domain interact according to DPD. \n",
    "2. Fluid particles interact uniformly with the fluid just above the top of the simulation domain according to DPD. "
   ]
  },
  {
   "cell_type": "code",
   "execution_count": null,
   "metadata": {},
   "outputs": [],
   "source": [
    "dpd = mx.Potential.dpd(alpha=0.3, gamma=1, sigma=1, cutoff=0.6)\n",
    "dpd_wall = mx.Potential.dpd(alpha=0.5, gamma=10, sigma=1, cutoff=0.1)\n",
    "\n",
    "mx.bind.types(dpd, A, A)\n",
    "mx.bind.boundaryCondition(dpd_wall, mx.Universe.boundary_conditions.top, A)"
   ]
  },
  {
   "cell_type": "markdown",
   "metadata": {},
   "source": [
    "Particle Construction\n",
    "----------------------\n",
    "\n",
    "In general, initializing fluid particles would mostly likely consist of randomly distributing them throughout a domain. However, initializing fluid particles in some subdomain of the space they will fill provides interesting early simulation interactions that resemble something like a fluid wave. \n",
    "Initialize fluid particles in a lattice at the center of the domain. "
   ]
  },
  {
   "cell_type": "code",
   "execution_count": null,
   "metadata": {},
   "outputs": [],
   "source": [
    "uc = mx.lattice.sc(0.3, A)\n",
    "parts = mx.lattice.create_lattice(uc, [25, 25, 25])"
   ]
  },
  {
   "cell_type": "code",
   "execution_count": null,
   "metadata": {
    "nbsphinx-thumbnail": {
     "output-index": 0
    }
   },
   "outputs": [],
   "source": [
    "mx.show()"
   ],
   "tags": [
    "nbsphinx-thumbnail"
   ]
  }
 ],
 "metadata": {
  "kernelspec": {
   "display_name": "Python 3 (ipykernel)",
   "language": "python",
   "name": "python3"
  },
  "language_info": {
   "codemirror_mode": {
    "name": "ipython",
    "version": 3
   },
   "file_extension": ".py",
   "mimetype": "text/x-python",
   "name": "python",
   "nbconvert_exporter": "python",
   "pygments_lexer": "ipython3",
   "version": "3.7.6"
  }
 },
 "nbformat": 4,
 "nbformat_minor": 2
}
